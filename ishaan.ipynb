{
  "nbformat": 4,
  "nbformat_minor": 0,
  "metadata": {
    "colab": {
      "provenance": []
    },
    "kernelspec": {
      "name": "python3",
      "display_name": "Python 3"
    },
    "language_info": {
      "name": "python"
    }
  },
  "cells": [
    {
      "cell_type": "code",
      "execution_count": 2,
      "metadata": {
        "colab": {
          "base_uri": "https://localhost:8080/"
        },
        "id": "JJJveUlPwr4y",
        "outputId": "15457dd5-9c39-4ea5-a0fd-20f6aef2ff19"
      },
      "outputs": [
        {
          "output_type": "stream",
          "name": "stdout",
          "text": [
            "The best model is Linear Regression with an R-squared value of -0.0170.\n"
          ]
        }
      ],
      "source": [
        "import pandas as pd\n",
        "from sklearn.model_selection import train_test_split\n",
        "from sklearn.ensemble import RandomForestRegressor\n",
        "from sklearn.linear_model import LinearRegression\n",
        "from sklearn.svm import SVR\n",
        "from sklearn.metrics import mean_squared_error, r2_score\n",
        "import matplotlib.pyplot as plt\n",
        "\n",
        "# Load the dataset\n",
        "data = pd.read_csv(\"/content/Fuel_cell_performance_data-Full.csv\")\n",
        "\n",
        "# Drop unnecessary columns\n",
        "data = data.drop(columns=['Target1', 'Target2', 'Target3', 'Target5'])\n",
        "\n",
        "# Define features and target\n",
        "X = data.drop(columns=['Target4'])\n",
        "y = data['Target4']\n",
        "\n",
        "# Split data into training and testing sets\n",
        "X_train, X_test, y_train, y_test = train_test_split(X, y, test_size=0.3, random_state=42)\n",
        "\n",
        "# Initialize models\n",
        "models = {\n",
        "    \"Linear Regression\": LinearRegression(),\n",
        "    \"Random Forest\": RandomForestRegressor(random_state=42),\n",
        "    \"Support Vector Regressor\": SVR()\n",
        "}\n",
        "\n",
        "# Dictionary to store results\n",
        "results = []\n",
        "\n",
        "# Train and evaluate each model\n",
        "for model_name, model in models.items():\n",
        "    # Train the model\n",
        "    model.fit(X_train, y_train)\n",
        "\n",
        "    # Make predictions\n",
        "    y_pred = model.predict(X_test)\n",
        "\n",
        "    # Evaluate the model\n",
        "    mse = mean_squared_error(y_test, y_pred)\n",
        "    r2 = r2_score(y_test, y_pred)\n",
        "\n",
        "    # Store the results\n",
        "    results.append({\n",
        "        \"Model\": model_name,\n",
        "        \"Mean Squared Error\": mse,\n",
        "        \"R-squared\": r2\n",
        "    })\n",
        "\n",
        "    # Plot actual vs predicted\n",
        "    plt.figure(figsize=(8, 6))\n",
        "    plt.scatter(y_test, y_pred, alpha=0.6, label=\"Predictions\")\n",
        "    plt.plot([y_test.min(), y_test.max()], [y_test.min(), y_test.max()], color='red', linestyle='--', label=\"Ideal Fit\")\n",
        "    plt.title(f\"{model_name}: Actual vs Predicted\")\n",
        "    plt.xlabel(\"Actual Values\")\n",
        "    plt.ylabel(\"Predicted Values\")\n",
        "    plt.legend()\n",
        "    plt.savefig(f\"{model_name}_plot.png\")\n",
        "    plt.close()\n",
        "\n",
        "# Convert results to DataFrame and save as CSV\n",
        "results_df = pd.DataFrame(results)\n",
        "results_df.to_csv(\"model_results.csv\", index=False)\n",
        "\n",
        "# Identify the best model based on R-squared\n",
        "best_model = results_df.loc[results_df['R-squared'].idxmax()]\n",
        "best_model_name = best_model['Model']\n",
        "best_model_r2 = best_model['R-squared']\n",
        "\n",
        "print(f\"The best model is {best_model_name} with an R-squared value of {best_model_r2:.4f}.\")\n"
      ]
    }
  ]
}